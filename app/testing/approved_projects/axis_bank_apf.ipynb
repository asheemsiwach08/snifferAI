{
 "cells": [
  {
   "cell_type": "code",
   "execution_count": 60,
   "id": "d4c83a31",
   "metadata": {},
   "outputs": [
    {
     "name": "stdout",
     "output_type": "stream",
     "text": [
      "Error in getting the data - 497\n",
      "Error in clicking the pager - 497\n",
      "Error in getting the data - 498\n",
      "Error in clicking the pager - 498\n",
      "Error in getting the data - 499\n",
      "Error in clicking the pager - 499\n",
      "Error in getting the data - 500\n",
      "Error in clicking the pager - 500\n",
      "Error in getting the data - 501\n",
      "Error in clicking the pager - 501\n",
      "Error in getting the data - 502\n",
      "Error in clicking the pager - 502\n"
     ]
    }
   ],
   "source": [
    "import time\n",
    "import pandas as pd\n",
    "from selenium import webdriver\n",
    "from selenium.webdriver.common.by import By\n",
    "from selenium.webdriver.support.ui import WebDriverWait\n",
    "from selenium.webdriver.support import expected_conditions as EC\n",
    "\n",
    "\n",
    "# driver = webdriver.Chrome()\n",
    "# driver.get(\"https://application.axisbank.co.in/webforms/ApprovedProjectList/homeloans_request.aspx?utm_source=chatgpt.com\")\n",
    "# driver.maximize_window()\n",
    "# time.sleep(10)\n",
    "\n",
    "column_names = []\n",
    "rows_data = []\n",
    "error_counts = 0\n",
    "\n",
    "def get_data():\n",
    "    table_element = driver.find_element(By.XPATH, '//*[@id=\"UpdatePanel1\"]/div/div[2]/div[5]/div/div/div[3]')\n",
    "    table_inner_element_one = table_element.find_element(By.TAG_NAME,'table')\n",
    "    \n",
    "    for row in table_inner_element_one.find_elements(By.TAG_NAME,'tr'):\n",
    "        columns = row.find_elements(By.TAG_NAME,'th')\n",
    "        if len(column_names) >= 4:\n",
    "            pass\n",
    "        else:\n",
    "            for column in columns:\n",
    "                column_names.append(column.text)\n",
    "\n",
    "        rows = row.find_elements(By.TAG_NAME,'td')\n",
    "        row_data = []\n",
    "        for row in rows:\n",
    "            row_data.append(row.text)\n",
    "        if len(row_data) == 4:\n",
    "            rows_data.append(row_data)\n",
    "\n",
    "        \n",
    "wait = WebDriverWait(driver, 10)\n",
    "for i in range(497,700):\n",
    "    if error_counts > 5:\n",
    "        break\n",
    "    else:\n",
    "        time.sleep(10)\n",
    "        try:\n",
    "            get_data()\n",
    "        except Exception as e:\n",
    "            print(f\"Error in getting the data - {i}\")\n",
    "            pass\n",
    "\n",
    "        try:\n",
    "            old_grid = wait.until(EC.presence_of_element_located((By.ID, \"gvApprovedList\")))\n",
    "            pager = wait.until(EC.element_to_be_clickable((\n",
    "                By.XPATH,\n",
    "                f\"//a[starts-with(@href, \\\"javascript:__doPostBack('gvApprovedList','Page${i}\\\")]\"\n",
    "            )))\n",
    "            pager.click()\n",
    "            wait.until(EC.staleness_of(old_grid))\n",
    "            wait.until(EC.presence_of_element_located((By.ID, \"gvApprovedList\")))\n",
    "        except Exception as e:\n",
    "            print(f\"Error in clicking the pager - {i}\")\n",
    "            error_counts += 1\n",
    "            pass\n",
    "\n",
    "try:\n",
    "    old_df = pd.read_csv(\"axis_bank_apf.csv\")\n",
    "    df = pd.DataFrame(columns=column_names, data=rows_data)\n",
    "    df_concat = pd.concat([old_df, df])\n",
    "    df_concat = df_concat.drop_duplicates(subset=['Project Name'])\n",
    "    df_concat.to_csv(\"axis_bank_apf.csv\", index=False)\n",
    "except Exception as e:\n",
    "    print(\"Error in saving the data\")\n",
    "\n",
    "\n",
    "\n",
    "\n",
    "\n",
    "\n"
   ]
  },
  {
   "cell_type": "code",
   "execution_count": 58,
   "id": "a74de0ac",
   "metadata": {},
   "outputs": [],
   "source": [
    "driver = webdriver.Chrome()\n",
    "driver.get(\"https://application.axisbank.co.in/webforms/ApprovedProjectList/homeloans_request.aspx?utm_source=chatgpt.com\")\n",
    "driver.maximize_window()\n",
    "time.sleep(10)\n"
   ]
  },
  {
   "cell_type": "code",
   "execution_count": 42,
   "id": "7b5f4f15",
   "metadata": {},
   "outputs": [],
   "source": [
    "i = 61\n",
    "pager = wait.until(EC.element_to_be_clickable((\n",
    "                By.XPATH,\n",
    "                f\"//a[starts-with(@href, \\\"javascript:__doPostBack('gvApprovedList','Page${i}\\\")]\"\n",
    "            )))\n",
    "\n",
    "pager.click()"
   ]
  },
  {
   "cell_type": "code",
   "execution_count": 30,
   "id": "bcafcfb7",
   "metadata": {},
   "outputs": [
    {
     "name": "stdout",
     "output_type": "stream",
     "text": [
      "... 41 42 43 44 45 46 47 48 49 50 ...\n"
     ]
    }
   ],
   "source": [
    "table_body = driver.find_elements(By.XPATH, '//*[@id=\"gvApprovedList\"]/tbody/tr[12]/td/table/tbody/tr')\n",
    "for table_row in table_body:\n",
    "    print(table_row.text)"
   ]
  },
  {
   "cell_type": "code",
   "execution_count": 39,
   "id": "c4a8d701",
   "metadata": {},
   "outputs": [
    {
     "name": "stdout",
     "output_type": "stream",
     "text": [
      "javascript:__doPostBack('gvApprovedList','Page$51')\n",
      "javascript:__doPostBack('gvApprovedList','Page$51')\n",
      "javascript:__doPostBack('gvApprovedList','Page$49')\n"
     ]
    }
   ],
   "source": [
    "print(driver.find_element(By.XPATH, '//*[@id=\"gvApprovedList\"]/tbody/tr[12]/td/table/tbody/tr/td[12]/a').get_attribute('href'))\n",
    "print(driver.find_element(By.XPATH, '//*[@id=\"gvApprovedList\"]/tbody/tr[12]/td/table/tbody/tr/td[12]/a').get_attribute('href'))\n",
    "print(driver.find_element(By.XPATH, '//*[@id=\"gvApprovedList\"]/tbody/tr[12]/td/table/tbody/tr/td[10]/a').get_attribute('href'))\n",
    "\n",
    "\n",
    "\n",
    "\n",
    "\n",
    "\n",
    "\n"
   ]
  },
  {
   "cell_type": "code",
   "execution_count": 19,
   "id": "0c7a0bc1",
   "metadata": {},
   "outputs": [
    {
     "data": {
      "text/plain": [
       "dict_keys(['ADAJAN', 'ADILABAD', 'AGRA', 'AHMED NAGAR', 'AHMEDABAD'])"
      ]
     },
     "execution_count": 19,
     "metadata": {},
     "output_type": "execute_result"
    }
   ],
   "source": [
    "dictionary.keys()"
   ]
  },
  {
   "cell_type": "code",
   "execution_count": 21,
   "id": "60055a59",
   "metadata": {},
   "outputs": [
    {
     "data": {
      "text/plain": [
       "' City\\n ADAJAN\\n ADILABAD\\n AGRA\\n AHMED NAGAR\\n AHMEDABAD\\n AHMEDNAGAR\\n AJMER\\n AKOLA\\n ALLAHABAD\\n ALWAR\\n AMRAVATI\\n ANAND\\n AURANGABAD\\n BANGALORE\\n BANGALORE RURAL\\n BARDHAMAN\\n BAREILLY\\n BELGAUM\\n BHARUCH\\n BHAVNAGAR\\n BHOPAL\\n BHUBANESHWAR\\n BILASPUR\\n Bilaspur (CGH)\\n CALICUT\\n CHANDIGARH\\n CHENNAI\\n CHITTOOR\\n COIMBATORE\\n COOCH BEHAR\\n CUTTACK\\n DADRA & NAGAR HAVELI\\n DAKSHINA KANNADA\\n DARJILING\\n DEHRADUN\\n DELHI\\n DHANBAD\\n DHAR\\n Dharwad\\n DHULE\\n EAST GODAVARI\\n ERNAKULAM\\n FARIDABAD\\n GANDHI NAGAR\\n GAUTAM BUDDHA NAGAR\\n GHAZIABAD\\n GOA\\n GULBARGA\\n GUNTUR\\n GURGAON\\n GUWAHATI\\n GWALIOR\\n HOOGHLY\\n HOWRAH\\n HUBLI\\n HYDERABAD\\n INDORE\\n JABALPUR\\n JAIPUR\\n JALANDHAR\\n JALGAON\\n JALPAIGURI\\n JAMNAGAR\\n JAMSHEDPUR\\n JHAJJAR\\n JHANSI\\n JODHPUR\\n JUNAGADH\\n K.V.RANGAREDDY\\n KALYAN\\n KAMRUP\\n KANCHIPURAM\\n KANNUR\\n KANPUR\\n KANPUR NAGAR\\n KARIM NAGAR\\n KARNAL\\n KHAMMAM\\n KHORDA\\n KOCHI\\n KOLHAPUR\\n KOLKATA\\n KOLLAM\\n KOTA\\n KOTTAYAM\\n KOZHIKODE\\n KRISHNA\\n KURNOOL\\n LUCKNOW\\n LUDHIANA\\n MADURAI\\n MAHESANA\\n MALDA\\n MANGALORE\\n MEDAK\\n MEERUT\\n MEHSANA\\n MOHALI\\n MORADABAD\\n MUMBAI\\n MYSORE\\n NAGPUR\\n NASHIK\\n NAVI MUMBAI\\n NAVSARI\\n NELLORE\\n NEW DELHI\\n NOIDA\\n NORTH 24 PARGANAS\\n NORTH DELHI\\n NORTH GOA\\n PALAKKAD\\n PANCHKULA\\n PANIPAT\\n PANVEL\\n PATHANAMTHITTA\\n PATIALA\\n PATNA\\n PUNE\\n Raigad\\n RAIPUR\\n RAJAHMUNDRY\\n RAJKOT\\n RANCHI\\n RATLAM\\n RATNAGIRI\\n REWARI\\n ROHTAK\\n SALEM\\n SAMBALPUR\\n SANGLI\\n SATARA\\n SIKAR\\n SILLIGURI\\n SIROHI\\n SOLAPUR\\n SOUTH 24 PARGANAS\\n SOUTH GOA\\n SUNDERGARH\\n SURAT\\n THANE\\n THIRUVANANTHAPURAM\\n THORAIPAKKAM\\n THRISSUR\\n TIRUCHIRAPPALLI\\n TIRUNELVELI\\n TIRUVALLUR\\n TRICHY\\n TRIVANDRUM\\n UDAIPUR\\n UDUPI\\n UJJAIN\\n VADODARA\\n VALSAD\\n Varanasi\\n VIJAYAWADA\\n VISAKHAPATNAM\\n VISHAKHAPATNAM\\n VIZIANAGARAM\\n WARANGAL\\n WEST GODAVARI'"
      ]
     },
     "execution_count": 21,
     "metadata": {},
     "output_type": "execute_result"
    }
   ],
   "source": [
    "driver.find_element(By.XPATH, '//*[@id=\"ddlCity\"]').text"
   ]
  },
  {
   "cell_type": "code",
   "execution_count": 4,
   "id": "fbd886d7",
   "metadata": {},
   "outputs": [],
   "source": [
    "wait = WebDriverWait(driver, 10)\n",
    "for i in range(2,10):\n",
    "    time.sleep(10)\n",
    "    get_data()\n",
    "\n",
    "    old_grid = wait.until(EC.presence_of_element_located((By.ID, \"gvApprovedList\")))\n",
    "    pager = wait.until(EC.element_to_be_clickable((\n",
    "        By.XPATH,\n",
    "        f\"//a[starts-with(@href, \\\"javascript:__doPostBack('gvApprovedList','Page$\\\") and normalize-space()='{i}']\"\n",
    "    )))\n",
    "    pager.click()\n",
    "    wait.until(EC.staleness_of(old_grid))\n",
    "    wait.until(EC.presence_of_element_located((By.ID, \"gvApprovedList\")))\n",
    "\n",
    "\n",
    "\n",
    "\n",
    "\n"
   ]
  },
  {
   "cell_type": "code",
   "execution_count": 7,
   "id": "88f11155",
   "metadata": {},
   "outputs": [
    {
     "data": {
      "text/html": [
       "<div>\n",
       "<style scoped>\n",
       "    .dataframe tbody tr th:only-of-type {\n",
       "        vertical-align: middle;\n",
       "    }\n",
       "\n",
       "    .dataframe tbody tr th {\n",
       "        vertical-align: top;\n",
       "    }\n",
       "\n",
       "    .dataframe thead th {\n",
       "        text-align: right;\n",
       "    }\n",
       "</style>\n",
       "<table border=\"1\" class=\"dataframe\">\n",
       "  <thead>\n",
       "    <tr style=\"text-align: right;\">\n",
       "      <th></th>\n",
       "      <th>Project Code</th>\n",
       "      <th>Builder Name</th>\n",
       "      <th>City</th>\n",
       "      <th>Project Name</th>\n",
       "    </tr>\n",
       "  </thead>\n",
       "  <tbody>\n",
       "    <tr>\n",
       "      <th>0</th>\n",
       "      <td>ADAJAN</td>\n",
       "      <td>ADJPAS006850</td>\n",
       "      <td>VATIKA VALLEY</td>\n",
       "      <td>AAGAM REALITY</td>\n",
       "    </tr>\n",
       "    <tr>\n",
       "      <th>1</th>\n",
       "      <td>ADAJAN</td>\n",
       "      <td>ADJPAS008136</td>\n",
       "      <td>ARIHANT HEIGHTS</td>\n",
       "      <td>AMBIKA DEVELOPERS.</td>\n",
       "    </tr>\n",
       "    <tr>\n",
       "      <th>2</th>\n",
       "      <td>ADAJAN</td>\n",
       "      <td>ADJPAS005376</td>\n",
       "      <td>GREEN PLAZA</td>\n",
       "      <td>ARIHANT CORPORATION</td>\n",
       "    </tr>\n",
       "    <tr>\n",
       "      <th>3</th>\n",
       "      <td>ADAJAN</td>\n",
       "      <td>ADJPAS009148</td>\n",
       "      <td>ASHWAMEGH VILLA</td>\n",
       "      <td>ASHWAMEGH ENTERPRISE</td>\n",
       "    </tr>\n",
       "    <tr>\n",
       "      <th>4</th>\n",
       "      <td>ADAJAN</td>\n",
       "      <td>ADJPAS005726</td>\n",
       "      <td>AVADH CAROLINA</td>\n",
       "      <td>AVADH BUILDCON</td>\n",
       "    </tr>\n",
       "  </tbody>\n",
       "</table>\n",
       "</div>"
      ],
      "text/plain": [
       "  Project Code  Builder Name             City          Project Name\n",
       "0       ADAJAN  ADJPAS006850    VATIKA VALLEY         AAGAM REALITY\n",
       "1       ADAJAN  ADJPAS008136  ARIHANT HEIGHTS    AMBIKA DEVELOPERS.\n",
       "2       ADAJAN  ADJPAS005376      GREEN PLAZA   ARIHANT CORPORATION\n",
       "3       ADAJAN  ADJPAS009148  ASHWAMEGH VILLA  ASHWAMEGH ENTERPRISE\n",
       "4       ADAJAN  ADJPAS005726   AVADH CAROLINA        AVADH BUILDCON"
      ]
     },
     "execution_count": 7,
     "metadata": {},
     "output_type": "execute_result"
    }
   ],
   "source": [
    "import pandas as pd\n",
    "\n",
    "df = pd.DataFrame(columns=list(set(columns_names)),data=rows_data)\n",
    "df.head()"
   ]
  },
  {
   "cell_type": "code",
   "execution_count": 8,
   "id": "5e09ced8",
   "metadata": {},
   "outputs": [
    {
     "data": {
      "text/html": [
       "<div>\n",
       "<style scoped>\n",
       "    .dataframe tbody tr th:only-of-type {\n",
       "        vertical-align: middle;\n",
       "    }\n",
       "\n",
       "    .dataframe tbody tr th {\n",
       "        vertical-align: top;\n",
       "    }\n",
       "\n",
       "    .dataframe thead th {\n",
       "        text-align: right;\n",
       "    }\n",
       "</style>\n",
       "<table border=\"1\" class=\"dataframe\">\n",
       "  <thead>\n",
       "    <tr style=\"text-align: right;\">\n",
       "      <th></th>\n",
       "      <th>Project Code</th>\n",
       "      <th>Builder Name</th>\n",
       "      <th>City</th>\n",
       "      <th>Project Name</th>\n",
       "    </tr>\n",
       "  </thead>\n",
       "  <tbody>\n",
       "    <tr>\n",
       "      <th>75</th>\n",
       "      <td>AHMEDABAD</td>\n",
       "      <td>AHMPAS007499</td>\n",
       "      <td>AKASH GRAND CITY</td>\n",
       "      <td>AKASH DEVELOPERS NARODA</td>\n",
       "    </tr>\n",
       "    <tr>\n",
       "      <th>76</th>\n",
       "      <td>AHMEDABAD</td>\n",
       "      <td>AHMPAS012557</td>\n",
       "      <td>AURAM HEIGHTS</td>\n",
       "      <td>AKSHAJ INFRA</td>\n",
       "    </tr>\n",
       "    <tr>\n",
       "      <th>77</th>\n",
       "      <td>AHMEDABAD</td>\n",
       "      <td>AHMPAS011585</td>\n",
       "      <td>AKSHAR PLATINUM NANA CHILODA</td>\n",
       "      <td>AKSHAR CORPORATION AHMEDABAD</td>\n",
       "    </tr>\n",
       "    <tr>\n",
       "      <th>78</th>\n",
       "      <td>AHMEDABAD</td>\n",
       "      <td>AHMPAS013773</td>\n",
       "      <td>SAUMYA HEIGHTS</td>\n",
       "      <td>AKSHAR DEVELOPERS GHUMA</td>\n",
       "    </tr>\n",
       "    <tr>\n",
       "      <th>79</th>\n",
       "      <td>AHMEDABAD</td>\n",
       "      <td>AHMPAS008125</td>\n",
       "      <td>TULSI STATUS</td>\n",
       "      <td>AKSHAR DEVELOPERS MOTERA</td>\n",
       "    </tr>\n",
       "  </tbody>\n",
       "</table>\n",
       "</div>"
      ],
      "text/plain": [
       "   Project Code  Builder Name                          City  \\\n",
       "75    AHMEDABAD  AHMPAS007499              AKASH GRAND CITY   \n",
       "76    AHMEDABAD  AHMPAS012557                 AURAM HEIGHTS   \n",
       "77    AHMEDABAD  AHMPAS011585  AKSHAR PLATINUM NANA CHILODA   \n",
       "78    AHMEDABAD  AHMPAS013773                SAUMYA HEIGHTS   \n",
       "79    AHMEDABAD  AHMPAS008125                  TULSI STATUS   \n",
       "\n",
       "                    Project Name  \n",
       "75       AKASH DEVELOPERS NARODA  \n",
       "76                  AKSHAJ INFRA  \n",
       "77  AKSHAR CORPORATION AHMEDABAD  \n",
       "78       AKSHAR DEVELOPERS GHUMA  \n",
       "79      AKSHAR DEVELOPERS MOTERA  "
      ]
     },
     "execution_count": 8,
     "metadata": {},
     "output_type": "execute_result"
    }
   ],
   "source": [
    "df.tail()"
   ]
  },
  {
   "cell_type": "code",
   "execution_count": null,
   "id": "6c56e544",
   "metadata": {},
   "outputs": [],
   "source": []
  }
 ],
 "metadata": {
  "kernelspec": {
   "display_name": ".venv",
   "language": "python",
   "name": "python3"
  },
  "language_info": {
   "codemirror_mode": {
    "name": "ipython",
    "version": 3
   },
   "file_extension": ".py",
   "mimetype": "text/x-python",
   "name": "python",
   "nbconvert_exporter": "python",
   "pygments_lexer": "ipython3",
   "version": "3.13.2"
  }
 },
 "nbformat": 4,
 "nbformat_minor": 5
}
