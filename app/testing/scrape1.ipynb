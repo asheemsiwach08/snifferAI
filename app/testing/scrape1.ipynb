{
 "cells": [
  {
   "cell_type": "code",
   "execution_count": 1,
   "id": "76f55c5e",
   "metadata": {},
   "outputs": [],
   "source": [
    "import requests\n",
    "import pandas as pd\n",
    "from bs4 import BeautifulSoup"
   ]
  },
  {
   "cell_type": "code",
   "execution_count": 2,
   "id": "89ff7308",
   "metadata": {},
   "outputs": [
    {
     "name": "stdout",
     "output_type": "stream",
     "text": [
      "37\n"
     ]
    }
   ],
   "source": [
    "resp = requests.get(\"https://www.advisorkhoj.com/Gurgaon/General-Insurance-Advisor\", timeout=30)\n",
    "resp.raise_for_status()\n",
    "\n",
    "soup = BeautifulSoup(resp.text, \"html.parser\")\n",
    "# find the select dropdown\n",
    "select_box = soup.find(\"select\", class_=\"form-control\")\n",
    "\n",
    "professions = []\n",
    "for option in select_box.find_all(\"option\"):\n",
    "    professions.append(option.text)\n",
    "\n",
    "print(len(professions))"
   ]
  },
  {
   "cell_type": "code",
   "execution_count": 5,
   "id": "99a34157",
   "metadata": {},
   "outputs": [
    {
     "name": "stdout",
     "output_type": "stream",
     "text": [
      "148\n"
     ]
    }
   ],
   "source": [
    "data = []\n",
    "locations = ['Faridabad','Mumbai','Meerut','Mathura']\n",
    "for profession in professions:\n",
    "    for location in locations:\n",
    "        Profession = profession.replace(\" \", \"-\")+\"-Advisor\"\n",
    "        data.append([Profession, location])\n",
    "\n",
    "print(len(data))\n",
    "\n",
    "advisers_data = pd.DataFrame(data, columns=['profession', 'location'])\n",
    "advisers_data.head()\n",
    "\n",
    "df = pd.read_csv(\"advisers_new_data.csv\")\n",
    "final_df = pd.concat([df,advisers_data])\n",
    "final_df.to_csv(\"advisers_data.csv\", index=False)\n",
    "\n",
    "\n",
    "    "
   ]
  },
  {
   "cell_type": "code",
   "execution_count": 4,
   "id": "df95b894",
   "metadata": {},
   "outputs": [
    {
     "name": "stdout",
     "output_type": "stream",
     "text": [
      "0 Mutual-Fund-Advisor Faridabad\n"
     ]
    }
   ],
   "source": [
    "for index, row in advisers_data.iterrows():\n",
    "    print(index, row['profession'], row['location'])\n",
    "    break"
   ]
  },
  {
   "cell_type": "code",
   "execution_count": null,
   "id": "b573bd51",
   "metadata": {},
   "outputs": [],
   "source": []
  }
 ],
 "metadata": {
  "kernelspec": {
   "display_name": ".venv",
   "language": "python",
   "name": "python3"
  },
  "language_info": {
   "codemirror_mode": {
    "name": "ipython",
    "version": 3
   },
   "file_extension": ".py",
   "mimetype": "text/x-python",
   "name": "python",
   "nbconvert_exporter": "python",
   "pygments_lexer": "ipython3",
   "version": "3.13.2"
  }
 },
 "nbformat": 4,
 "nbformat_minor": 5
}
