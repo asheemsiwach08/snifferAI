{
 "cells": [
  {
   "cell_type": "code",
   "execution_count": 1,
   "id": "4ec35013",
   "metadata": {},
   "outputs": [],
   "source": [
    "from firecrawl import FirecrawlApp"
   ]
  },
  {
   "cell_type": "code",
   "execution_count": null,
   "id": "31131fa6",
   "metadata": {},
   "outputs": [
    {
     "data": {
      "text/plain": [
       "<firecrawl.firecrawl.FirecrawlApp at 0x1c6db880c20>"
      ]
     },
     "execution_count": 2,
     "metadata": {},
     "output_type": "execute_result"
    }
   ],
   "source": [
    "app = FirecrawlApp(api_key=\"\")\n",
    "app"
   ]
  },
  {
   "cell_type": "code",
   "execution_count": 30,
   "id": "1b8dc6b6",
   "metadata": {},
   "outputs": [
    {
     "data": {
      "text/plain": [
       "ExtractResponse(id=None, status='completed', expiresAt=datetime.datetime(2025, 9, 2, 14, 1, 59, tzinfo=TzInfo(UTC)), success=True, data={'records': [{'name': 'Indane - Balaji Gas Service', 'details': 'F283, KC Badkhal Road, SGM Nagar, Faridabad - 121001, Near Patel Chowk, Phone: +911292461490, Open until 06:00 PM.', 'recordId': '212027'}, {'name': 'Indane - Rich Flames', 'details': 'No 3E/67, Metro Road, NIT 3, Faridabad - 121001, Phone: +917428430462, Open until 06:00 PM.', 'recordId': '211299'}, {'name': 'Indane - Aggma Gas Service', 'details': 'No 5/K/15 Ntt, NIT 5, Faridabad - 121001, Opposite Eat N Joy Restaurant, Phone: +919311386049, Open until 05:30 PM.', 'recordId': '234610'}, {'name': 'Indane - Rama', 'details': 'SCO No 144, 1st Floor, Cabin No 2, Sector 21C Market, Faridabad - 121001, Near Dominos Pizza, Phone: +911294096155, Open until 06:00 PM.', 'recordId': '219793'}, {'name': 'Indane - Bindoo Gas Service', 'details': 'Plot No 1, Air Force Road, Jawahar Colony, Faridabad - 121001, Near Air Force Station Gate, Phone: +919312624932, Open until 06:00 PM.', 'recordId': '210917'}, {'name': 'Indane - Sant Gas', 'details': 'Shop No 5P/58A, NIT, Faridabad - 121001, Phone: +911294140029, Open until 06:00 PM.', 'recordId': '318464'}, {'name': 'Indane - Gunnar', 'details': 'Shop No 35, Huda Market, Sector 40, Gurugram - 122001, Open until 06:00 PM, Phone: +919990011971', 'recordId': '220178'}, {'name': 'Indane - Maha Luxmi Gas Service', 'details': 'No 433/8, Madanpuri Road, New Colony, Gurugram - 122001, Opposite Laxmi Bazar, Open until 06:00 PM, Phone: +919643320683', 'recordId': '210404'}, {'name': 'Indane - Santosh', 'details': 'Plot No 103, Sarhaul, Sector 18, Gurugram - 122001, Near Government School Road, Open until 06:00 PM, Phone: +919811801211', 'recordId': '291196'}, {'name': 'Indane - Superfine', 'details': 'No 358/55, Gali No 12, Ashok Vihar, Gurugram - 122001, Near ICICI Bank ATM, Open until 05:00 PM, Phone: +919654339369', 'recordId': '220275'}, {'name': 'Indane - Urvashi Enterprises', 'details': 'UG/201D, Shopping Arcade, Phase 1, Sushant Lok, Gurugram - 122001, Near Huda City Metro Station, Open until 05:30 PM, Phone: +919313321916', 'recordId': '219836'}, {'name': 'Indane - Raghu Gas Service', 'details': 'Shiv Shanker Market, Old Railway Road, Bhim Nagar, Gurugram - 122001, Opposite Aryan Hospital, Open until 06:00 PM, Phone: +919873972828', 'recordId': '221230'}, {'name': 'Indane - Anand Gas Service', 'details': 'No 11, Bapu Asa Ram Market, Chhotu Ram Chowk, Civil Lines, Rohtak - 124001, Opposite Sanghi Nursing Home, Phone: +918398993840, Open until 06:00 PM.', 'recordId': '208999'}, {'name': 'Indane - Rohtak Gas Service', 'details': 'Ground Floor, Sonipat Stand, Rohtak - 124001, Phone: +918053576665, Open until 06:00 PM.', 'recordId': '295987'}, {'name': 'Indane - Kalra', 'details': 'Plot No 1, Rajinder Colony, Rohtak Bhiwani Road, Rohtak - 124001, Phone: +919468111414, Open until 06:00 PM.', 'recordId': '297188'}, {'name': 'Indane - Sri Lakshmi Jee', 'details': 'Sonepat Road, Shiela Bypass Chowk, Rohtak - 124001, Opposite IOCL Petrol Pump, Phone: +919896219115, Open until 06:00 PM.', 'recordId': '219502'}, {'name': 'Indane - Abhil', 'details': 'Ground Floor, Jhang Colony, Sonipet Road, Rohtak - 124001, Near Vijay Park, Phone: +919215343536, Open until 05:30 PM.', 'recordId': '295945'}, {'name': 'Indane - Ranvir', 'details': 'Plot No 7, Rohtak Bhiwani Road, Bhiwani Chungi Main Chowk, Kutana, Rohtak - 124001, Phone: +919671680033, Open until 06:00 PM.', 'recordId': '219835'}, {'name': 'Indane - Virendra Enterprises', 'details': 'Ground Floor, Dayanand Nagar, Bahadurgarh - 124507, Opposite Bus Stand, Open until 06:00 PM, Phone: +919416529721, [Website](https://locator.iocl.com/indane/indane-virendra-enterprises-gas-agency-dayanand-nagar-bahadurgarh-245443/Home)', 'recordId': '245443'}, {'name': 'Indane - Prem', 'details': 'Ground Floor, Patauda, Bahadurgarh - 124507, Near Bus Stand, Open until 05:00 PM, Phone: +919990122003, [Website](https://locator.iocl.com/indane/indane-prem-gas-agency-patauda-bahadurgarh-245471/Home)', 'recordId': '245471'}, {'name': 'Indane - Ram Gas Service', 'details': 'Ground Floor, Jhajjar Road, Bahadurgarh - 124507, Near Ram Cinema, Open until 06:00 PM, Phone: +919416257230, [Website](https://locator.iocl.com/indane/indane-ram-gas-service-gas-agency-jhajjar-road-bahadurgarh-245653/Home)', 'recordId': '245653'}, {'name': 'Indane - Himani', 'details': 'Ground Floor, Gali No 06, 100 Feet Wala Rd, Patel Nagar, Bahadurgarh - 124507, Near Sector 02, Open until 06:00 PM, Phone: +918607647061, [Website](https://locator.iocl.com/indane/indane-himani-gas-agency-patel-nagar-bahadurgarh-245664/Home)', 'recordId': '245664'}, {'name': 'Indane - Confed Gas Service, Bahadurgarh', 'details': 'Ground Floor, Jhajjar Road, Bahadurgarh - 124507, Open until 06:00 PM, Phone: +919899240298, [Website](https://locator.iocl.com/indane/indane-confed-gas-service-bahadurgarh-gas-agency-jhajjar-road-bahadurgarh-296566/Home)', 'recordId': '296566'}, {'name': 'Indane - Sonepat Gas Service', 'details': 'Ground Floor, Kakroi Road, Sonepat, Sonipat - 131001, Open until 05:30 PM, Phone: +919416149888', 'recordId': '247175'}, {'name': 'Indane - Kheriwala Gases', 'details': 'Shop No 1 & 2, Phase 1, Housing Board Colony, Sonipat - 131001, Open until 05:00 PM, Phone: +919896005665', 'recordId': '221738'}, {'name': 'Indane - Mohana Gramin Vitrak', 'details': 'Khata No 1111, Khewat No 826, Mohana, Sonipat - 131001, Near Main Bus Stand, Open until 05:30 PM, Phone: +919996223699', 'recordId': '221795'}, {'name': 'Indane - Arvind Gas Service', 'details': 'Ground Floor, Kabirpur Road, Pancham Nagar, Sonipat - 131001, Near Vrindavan Garden, Open until 06:00 PM, Phone: +919812981212', 'recordId': '246152'}, {'name': 'Indane - Marwaha Gas Service', 'details': 'Ground Floor, Kache Quarter, Model Town Market, Sonipat - 131001, Near Shubash Chowk, Open until 06:00 PM, Phone: +919896660417', 'recordId': '247177'}, {'name': 'Indane - Dahiya Gas Service', 'details': 'Ground Floor, Sarang Road, Sonipat - 131001, Open until 05:00 PM, Phone: +919416141888', 'recordId': '246336'}], 'nextPageUrl': 'https://locator.iocl.com/location/haryana'}, error=None, warning=None, sources=None)"
      ]
     },
     "execution_count": 30,
     "metadata": {},
     "output_type": "execute_result"
    }
   ],
   "source": [
    "app.extract(urls=[\"https://locator.iocl.com/?search=Gurugram%2C+Haryana%2C+India/*\"], prompt=\"Extract all the records from the page, then scroll to the bottom and move to next page, then extract all the data of all the pages, move to next till the last pages and find each records of IOCL for the given url\")"
   ]
  },
  {
   "cell_type": "code",
   "execution_count": 6,
   "id": "2ab95bdf",
   "metadata": {},
   "outputs": [],
   "source": [
    "scraped_data = app.scrape_url(\"https://locator.iocl.com/?search=Gurugram%2C+Haryana%2C+India\")"
   ]
  },
  {
   "cell_type": "code",
   "execution_count": 7,
   "id": "a3912f74",
   "metadata": {},
   "outputs": [
    {
     "name": "stdout",
     "output_type": "stream",
     "text": [
      "url=None markdown='- A+\\n- A\\n- A-\\n\\n# IndianOil\\n\\n#### Locate the nearest fuel station(s)\\n\\n[Search Nearby](https://locator.iocl.com/?search=Gurugram%2C+Haryana%2C+India#searchNearby) [Advanced Search](https://locator.iocl.com/?search=Gurugram%2C+Haryana%2C+India#searchAdvance)\\n\\nSearch\\n\\n- State\\\\*AllAndaman And Nicobar IslandsAndhra PradeshArunachal PradeshAssamBiharChandigarhChhattisgarhDadra And Nagar HaveliDaman & DiuDelhiGoaGujaratHaryanaHimachal PradeshJammu And KashmirJharkhandKarnatakaKeralaLadakhLakshadweepMadhya PradeshMaharashtraManipurMeghalayaMizoramNagalandOdishaPuducherryPunjabRajasthanSikkimTamil NaduTelanganaTripuraUttar PradeshUttarakhandWest Bengal\\n- CityPlease select state first\\n- Locality\\n- RadiusPlease enter locality first\\\\- 3 KM -\\\\- 5 KM -\\\\- 7 KM -\\\\- 9 KM -\\\\- 11 KM -\\\\- 13 KM -\\n- Search\\n\\n[![IndianOil To go NET ZERO](https://cdn4.singleinterface.com/files/enterprise/coverphoto/99528/Indian-Oil-net-zero-banner-17-04-23-02-13-09.jpg)](https://iocl.com/pages/NetZero?utm_source=store_locator&utm_medium=main_banner)\\n\\n[![Cheetah Banner](https://cdn4.singleinterface.com/files/enterprise/coverphoto/99528/Banner-2-02-03-23-12-58-02.jpg)](https://www.iocl.com/pages/IndianOil-fuels-Cheetahs-arrival-to-India-after-70-years?utm_source=store_locator&utm_medium=main_banner)\\n\\n[![IndianOil To go NET ZERO](https://cdn4.singleinterface.com/files/enterprise/coverphoto/99528/Indian-Oil-net-zero-banner-17-04-23-02-13-09.jpg)](https://iocl.com/pages/NetZero?utm_source=store_locator&utm_medium=main_banner)\\n\\n[![Cheetah Banner](https://cdn4.singleinterface.com/files/enterprise/coverphoto/99528/Banner-2-02-03-23-12-58-02.jpg)](https://www.iocl.com/pages/IndianOil-fuels-Cheetahs-arrival-to-India-after-70-years?utm_source=store_locator&utm_medium=main_banner)\\n\\n[![IndianOil To go NET ZERO](https://cdn4.singleinterface.com/files/enterprise/coverphoto/99528/Indian-Oil-net-zero-banner-17-04-23-02-13-09.jpg)](https://iocl.com/pages/NetZero?utm_source=store_locator&utm_medium=main_banner)\\n\\n- 1\\n- 2\\n\\n[![IndianOil To go NET ZERO](https://cdn4.singleinterface.com/files/enterprise/coverphoto/99528/Indian-Oil-net-zero-banner-17-04-23-02-13-09.jpg)](https://iocl.com/pages/NetZero?utm_source=store_locator&utm_medium=main_banner)\\n\\n- 1\\n\\n### IndianOil fuel stations Near Gurugram, Haryana, India\\n\\n- [IndianOil](https://locator.iocl.com/indianoil-gurgaon-fuel-centre-petrol-pump-maharana-pratap-chowk-gurugram-196248/Home \"IndianOil\")\\n\\n- 0.7 KM from Gurugram, Haryana, India\\n\\n[Get Direction](https://www.google.com/maps/dir/?api=1&destination=IndianOil&destination_place_id=ChIJD3rwAnEZDTkRxYYLAiXPVcg)\\n\\n- Gurgaon Fuel Centre\\n\\n- Mahavir Chowk, MG Road\\n\\nMaharana Pratap Chowk\\n\\nGurugram \\\\- 122001\\n\\n- [+917838222319](tel:+917838222319)\\n\\n- Open 24 Hours\\n\\n- [Call](tel:+917838222319) [Map](https://locator.iocl.com/indianoil-gurgaon-fuel-centre-petrol-pump-maharana-pratap-chowk-gurugram-196248/Map) [Details](https://locator.iocl.com/indianoil-gurgaon-fuel-centre-petrol-pump-maharana-pratap-chowk-gurugram-196248/Home) [Map](https://maps.google.com/maps?cid=14435671938461042373)\\n\\n- [IndianOil](https://locator.iocl.com/indianoil-geeta-fuels-petrol-pump-old-delhi-road-gurugram-196247/Home \"IndianOil\")\\n\\n- 0.8 KM from Gurugram, Haryana, India\\n\\n[Get Direction](https://www.google.com/maps/dir/?api=1&destination=IndianOil&destination_place_id=ChIJ5YqbzyUZDTkRRXn3w-ZGqUQ)\\n\\n- Geeta Fuels\\n\\n- 308/2\\n\\nOld Delhi Road\\n\\nGurugram \\\\- 122001\\n\\n- [+919810850082](tel:+919810850082)\\n\\n- Open 24 Hours\\n\\n- [Call](tel:+919810850082) [Map](https://locator.iocl.com/indianoil-geeta-fuels-petrol-pump-old-delhi-road-gurugram-196247/Map) [Details](https://locator.iocl.com/indianoil-geeta-fuels-petrol-pump-old-delhi-road-gurugram-196247/Home) [Map](https://maps.google.com/maps?cid=4947563622587398469)\\n\\n- [IndianOil](https://locator.iocl.com/indianoil-haryana-agro-industries-petrol-pump-mehrauli-road-gurugram-196291/Home \"IndianOil\")\\n\\n- 0.9 KM from Gurugram, Haryana, India\\n\\n[Get Direction](https://www.google.com/maps/dir/?api=1&destination=IndianOil&destination_place_id=ChIJCcVgf0sYDTkRgCjHXRBDXf0)\\n\\n- Haryana Agro Industries\\n\\n- Ground Floor\\n\\nMehrauli Road\\n\\nGurugram \\\\- 122001\\n\\n- [+919996546910](tel:+919996546910)\\n\\n- Open until 10:00 PM\\n\\n- [Call](tel:+919996546910) [Map](https://locator.iocl.com/indianoil-haryana-agro-industries-petrol-pump-mehrauli-road-gurugram-196291/Map) [Details](https://locator.iocl.com/indianoil-haryana-agro-industries-petrol-pump-mehrauli-road-gurugram-196291/Home) [Map](https://maps.google.com/maps?cid=18256822202001729664)\\n\\n- [IndianOil](https://locator.iocl.com/indianoil-sz-city-point-petrol-pump-new-colony-more-gurugram-196252/Home \"IndianOil\")\\n\\n- 1.0 KM from Gurugram, Haryana, India\\n\\n[Get Direction](https://www.google.com/maps/dir/?api=1&destination=IndianOil&destination_place_id=ChIJey83cOYZDTkRPwR882mvfKY)\\n\\n- SZ City Point\\n\\n- Ground Floor\\n\\nNew Colony More\\n\\nGurugram \\\\- 122001\\n\\n- [+919899098195](tel:+919899098195)\\n\\n- Open until 10:00 PM\\n\\n- [Call](tel:+919899098195) [Map](https://locator.iocl.com/indianoil-sz-city-point-petrol-pump-new-colony-more-gurugram-196252/Map) [Details](https://locator.iocl.com/indianoil-sz-city-point-petrol-pump-new-colony-more-gurugram-196252/Home) [Map](https://maps.google.com/maps?cid=11996656376999576639)\\n\\n- [IndianOil](https://locator.iocl.com/indianoil-tex-max-filling-station-petrol-pump-pataudi-chowk-gurugram-196276/Home \"IndianOil\")\\n\\n- 1.1 KM from Gurugram, Haryana, India\\n\\n[Get Direction](https://www.google.com/maps/dir/?api=1&destination=IndianOil&destination_place_id=ChIJ98ewNywYDTkRdLQpp6XJBY4)\\n\\n- Tex Max Filling Station\\n\\n- Madanpuri Road, New Colony\\n\\nPataudi Chowk\\n\\nGurugram \\\\- 122001\\n\\n- Near Public Health Office\\n\\n- [+919810125044](tel:+919810125044)\\n\\n- Open 24 Hours\\n\\n- [Call](tel:+919810125044) [Map](https://locator.iocl.com/indianoil-tex-max-filling-station-petrol-pump-pataudi-chowk-gurugram-196276/Map) [Details](https://locator.iocl.com/indianoil-tex-max-filling-station-petrol-pump-pataudi-chowk-gurugram-196276/Home) [Map](https://maps.google.com/maps?cid=10233807441580635252)\\n\\n- [IndianOil](https://locator.iocl.com/indianoil-vijay-brothers-petrol-pump-court-road-gurugram-196287/Home \"IndianOil\")\\n\\n- 1.2 KM from Gurugram, Haryana, India\\n\\n[Get Direction](https://www.google.com/maps/dir/?api=1&destination=IndianOil&destination_place_id=ChIJxTJJvDkYDTkRdxuSEal7O2A)\\n\\n- Vijay Brothers\\n\\n- Ground Floor\\n\\nCourt Road\\n\\nGurugram \\\\- 122001\\n\\n- [+919312945145](tel:+919312945145)\\n\\n- Open until 10:00 PM\\n\\n- [Call](tel:+919312945145) [Map](https://locator.iocl.com/indianoil-vijay-brothers-petrol-pump-court-road-gurugram-196287/Map) [Details](https://locator.iocl.com/indianoil-vijay-brothers-petrol-pump-court-road-gurugram-196287/Home) [Map](https://maps.google.com/maps?cid=6934272017341487991)\\n\\n- 1\\n- [2](https://locator.iocl.com/?search=Gurugram%2C+Haryana%2C+India&page=2)\\n- [3](https://locator.iocl.com/?search=Gurugram%2C+Haryana%2C+India&page=3)\\n- [Next](https://locator.iocl.com/?search=Gurugram%2C+Haryana%2C+India&page=2)\\n- [Last](https://locator.iocl.com/?search=Gurugram%2C+Haryana%2C+India&page=9)\\n\\n![](https://fonts.gstatic.com/s/i/productlogos/translate/v14/24px.svg)\\n\\nOriginal text\\n\\nRate this translation\\n\\nYour feedback will be used to help improve Google Translate\\n\\n![Petrol Pump Chatbot](https://www.singleinterface.com/files/banner_images/99528/2931_1688979528_indianoillogo09052023.jpg)\\n\\nPetrol Pump Chatbot\\n\\nType a message\\n\\n![Petrol Pump Chatbot](https://www.singleinterface.com/files/banner_images/99528/4826_1688979526_IOCLPPAttendant09052023.png)' html=None rawHtml=None links=None extract=None json_field=None screenshot=None metadata={'title': 'IndianOil Locator | Gurugram, Haryana, India | Petrol Pump', 'geo.placename': 'IndianOil', 'favicon': 'https://cdn4.singleinterface.com/files/outlet/fav_icon/99528/indian_oil_png.png', 'revisit-after': '1 days', 'viewport': 'width=device-width, initial-scale=1.0, minimum-scale=1.0, user-scalable=yes', 'geo.position': '28.4646148; 77.0299194', 'Author': 'https://locator.iocl.com/', 'robots': 'index, follow', 'googlebot': 'index, follow', 'copyright': '© Copyright ', 'language': 'en', 'description': 'Find closest IndianOil fuel station near Gurugram, Haryana, India. Get accurate fuel station information e.g. address, phone no, map & timings.', 'rating': 'general', 'resource-type': 'text/html', 'distribution': 'Global', 'keywords': 'IndianOil Address, IndianOil location, IndianOil contact, IndianOil phone number, IndianOil Direction, IndianOil Fuel Station', 'Created By': 'IndianOil', 'scrapeId': 'cd7da132-07bf-40aa-99c8-c42122a3942a', 'sourceURL': 'https://locator.iocl.com/?search=Gurugram%2C+Haryana%2C+India', 'url': 'https://locator.iocl.com/?search=Gurugram%2C+Haryana%2C+India', 'statusCode': 200, 'contentType': 'text/html; charset=UTF-8', 'proxyUsed': 'basic', 'creditsUsed': 1} actions=None title=None description=None changeTracking=None success=True warning=None error=None\n"
     ]
    }
   ],
   "source": [
    "print(scraped_data)"
   ]
  },
  {
   "cell_type": "code",
   "execution_count": 20,
   "id": "8946ede0",
   "metadata": {},
   "outputs": [
    {
     "name": "stdout",
     "output_type": "stream",
     "text": [
      "{\"url\":null,\"markdown\":\"- A+\\n- A\\n- A-\\n\\n# IndianOil\\n\\n#### Locate the nearest fuel station(s)\\n\\n[Search Nearby](https://locator.iocl.com/?search=Gurugram%2C+Haryana%2C+India#searchNearby) [Advanced Search](https://locator.iocl.com/?search=Gurugram%2C+Haryana%2C+India#searchAdvance)\\n\\nSearch\\n\\n- State\\\\*AllAndaman And Nicobar IslandsAndhra PradeshArunachal PradeshAssamBiharChandigarhChhattisgarhDadra And Nagar HaveliDaman & DiuDelhiGoaGujaratHaryanaHimachal PradeshJammu And KashmirJharkhandKarnatakaKeralaLadakhLakshadweepMadhya PradeshMaharashtraManipurMeghalayaMizoramNagalandOdishaPuducherryPunjabRajasthanSikkimTamil NaduTelanganaTripuraUttar PradeshUttarakhandWest Bengal\\n- CityPlease select state first\\n- Locality\\n- RadiusPlease enter locality first\\\\- 3 KM -\\\\- 5 KM -\\\\- 7 KM -\\\\- 9 KM -\\\\- 11 KM -\\\\- 13 KM -\\n- Search\\n\\n[![IndianOil To go NET ZERO](https://cdn4.singleinterface.com/files/enterprise/coverphoto/99528/Indian-Oil-net-zero-banner-17-04-23-02-13-09.jpg)](https://iocl.com/pages/NetZero?utm_source=store_locator&utm_medium=main_banner)\\n\\n[![Cheetah Banner](https://cdn4.singleinterface.com/files/enterprise/coverphoto/99528/Banner-2-02-03-23-12-58-02.jpg)](https://www.iocl.com/pages/IndianOil-fuels-Cheetahs-arrival-to-India-after-70-years?utm_source=store_locator&utm_medium=main_banner)\\n\\n[![IndianOil To go NET ZERO](https://cdn4.singleinterface.com/files/enterprise/coverphoto/99528/Indian-Oil-net-zero-banner-17-04-23-02-13-09.jpg)](https://iocl.com/pages/NetZero?utm_source=store_locator&utm_medium=main_banner)\\n\\n[![Cheetah Banner](https://cdn4.singleinterface.com/files/enterprise/coverphoto/99528/Banner-2-02-03-23-12-58-02.jpg)](https://www.iocl.com/pages/IndianOil-fuels-Cheetahs-arrival-to-India-after-70-years?utm_source=store_locator&utm_medium=main_banner)\\n\\n[![IndianOil To go NET ZERO](https://cdn4.singleinterface.com/files/enterprise/coverphoto/99528/Indian-Oil-net-zero-banner-17-04-23-02-13-09.jpg)](https://iocl.com/pages/NetZero?utm_source=store_locator&utm_medium=main_banner)\\n\\n- 1\\n- 2\\n\\n[![IndianOil To go NET ZERO](https://cdn4.singleinterface.com/files/enterprise/coverphoto/99528/Indian-Oil-net-zero-banner-17-04-23-02-13-09.jpg)](https://iocl.com/pages/NetZero?utm_source=store_locator&utm_medium=main_banner)\\n\\n- 1\\n\\n### IndianOil fuel stations Near Gurugram, Haryana, India\\n\\n- [IndianOil](https://locator.iocl.com/indianoil-gurgaon-fuel-centre-petrol-pump-maharana-pratap-chowk-gurugram-196248/Home \\\"IndianOil\\\")\\n\\n- 0.7 KM from Gurugram, Haryana, India\\n\\n[Get Direction](https://www.google.com/maps/dir/?api=1&destination=IndianOil&destination_place_id=ChIJD3rwAnEZDTkRxYYLAiXPVcg)\\n\\n- Gurgaon Fuel Centre\\n\\n- Mahavir Chowk, MG Road\\n\\nMaharana Pratap Chowk\\n\\nGurugram \\\\- 122001\\n\\n- [+917838222319](tel:+917838222319)\\n\\n- Open 24 Hours\\n\\n- [Call](tel:+917838222319) [Map](https://locator.iocl.com/indianoil-gurgaon-fuel-centre-petrol-pump-maharana-pratap-chowk-gurugram-196248/Map) [Details](https://locator.iocl.com/indianoil-gurgaon-fuel-centre-petrol-pump-maharana-pratap-chowk-gurugram-196248/Home) [Map](https://maps.google.com/maps?cid=14435671938461042373)\\n\\n- [IndianOil](https://locator.iocl.com/indianoil-geeta-fuels-petrol-pump-old-delhi-road-gurugram-196247/Home \\\"IndianOil\\\")\\n\\n- 0.8 KM from Gurugram, Haryana, India\\n\\n[Get Direction](https://www.google.com/maps/dir/?api=1&destination=IndianOil&destination_place_id=ChIJ5YqbzyUZDTkRRXn3w-ZGqUQ)\\n\\n- Geeta Fuels\\n\\n- 308/2\\n\\nOld Delhi Road\\n\\nGurugram \\\\- 122001\\n\\n- [+919810850082](tel:+919810850082)\\n\\n- Open 24 Hours\\n\\n- [Call](tel:+919810850082) [Map](https://locator.iocl.com/indianoil-geeta-fuels-petrol-pump-old-delhi-road-gurugram-196247/Map) [Details](https://locator.iocl.com/indianoil-geeta-fuels-petrol-pump-old-delhi-road-gurugram-196247/Home) [Map](https://maps.google.com/maps?cid=4947563622587398469)\\n\\n- [IndianOil](https://locator.iocl.com/indianoil-haryana-agro-industries-petrol-pump-mehrauli-road-gurugram-196291/Home \\\"IndianOil\\\")\\n\\n- 0.9 KM from Gurugram, Haryana, India\\n\\n[Get Direction](https://www.google.com/maps/dir/?api=1&destination=IndianOil&destination_place_id=ChIJCcVgf0sYDTkRgCjHXRBDXf0)\\n\\n- Haryana Agro Industries\\n\\n- Ground Floor\\n\\nMehrauli Road\\n\\nGurugram \\\\- 122001\\n\\n- [+919996546910](tel:+919996546910)\\n\\n- Open until 10:00 PM\\n\\n- [Call](tel:+919996546910) [Map](https://locator.iocl.com/indianoil-haryana-agro-industries-petrol-pump-mehrauli-road-gurugram-196291/Map) [Details](https://locator.iocl.com/indianoil-haryana-agro-industries-petrol-pump-mehrauli-road-gurugram-196291/Home) [Map](https://maps.google.com/maps?cid=18256822202001729664)\\n\\n- [IndianOil](https://locator.iocl.com/indianoil-sz-city-point-petrol-pump-new-colony-more-gurugram-196252/Home \\\"IndianOil\\\")\\n\\n- 1.0 KM from Gurugram, Haryana, India\\n\\n[Get Direction](https://www.google.com/maps/dir/?api=1&destination=IndianOil&destination_place_id=ChIJey83cOYZDTkRPwR882mvfKY)\\n\\n- SZ City Point\\n\\n- Ground Floor\\n\\nNew Colony More\\n\\nGurugram \\\\- 122001\\n\\n- [+919899098195](tel:+919899098195)\\n\\n- Open until 10:00 PM\\n\\n- [Call](tel:+919899098195) [Map](https://locator.iocl.com/indianoil-sz-city-point-petrol-pump-new-colony-more-gurugram-196252/Map) [Details](https://locator.iocl.com/indianoil-sz-city-point-petrol-pump-new-colony-more-gurugram-196252/Home) [Map](https://maps.google.com/maps?cid=11996656376999576639)\\n\\n- [IndianOil](https://locator.iocl.com/indianoil-tex-max-filling-station-petrol-pump-pataudi-chowk-gurugram-196276/Home \\\"IndianOil\\\")\\n\\n- 1.1 KM from Gurugram, Haryana, India\\n\\n[Get Direction](https://www.google.com/maps/dir/?api=1&destination=IndianOil&destination_place_id=ChIJ98ewNywYDTkRdLQpp6XJBY4)\\n\\n- Tex Max Filling Station\\n\\n- Madanpuri Road, New Colony\\n\\nPataudi Chowk\\n\\nGurugram \\\\- 122001\\n\\n- Near Public Health Office\\n\\n- [+919810125044](tel:+919810125044)\\n\\n- Open 24 Hours\\n\\n- [Call](tel:+919810125044) [Map](https://locator.iocl.com/indianoil-tex-max-filling-station-petrol-pump-pataudi-chowk-gurugram-196276/Map) [Details](https://locator.iocl.com/indianoil-tex-max-filling-station-petrol-pump-pataudi-chowk-gurugram-196276/Home) [Map](https://maps.google.com/maps?cid=10233807441580635252)\\n\\n- [IndianOil](https://locator.iocl.com/indianoil-vijay-brothers-petrol-pump-court-road-gurugram-196287/Home \\\"IndianOil\\\")\\n\\n- 1.2 KM from Gurugram, Haryana, India\\n\\n[Get Direction](https://www.google.com/maps/dir/?api=1&destination=IndianOil&destination_place_id=ChIJxTJJvDkYDTkRdxuSEal7O2A)\\n\\n- Vijay Brothers\\n\\n- Ground Floor\\n\\nCourt Road\\n\\nGurugram \\\\- 122001\\n\\n- [+919312945145](tel:+919312945145)\\n\\n- Open until 10:00 PM\\n\\n- [Call](tel:+919312945145) [Map](https://locator.iocl.com/indianoil-vijay-brothers-petrol-pump-court-road-gurugram-196287/Map) [Details](https://locator.iocl.com/indianoil-vijay-brothers-petrol-pump-court-road-gurugram-196287/Home) [Map](https://maps.google.com/maps?cid=6934272017341487991)\\n\\n- 1\\n- [2](https://locator.iocl.com/?search=Gurugram%2C+Haryana%2C+India&page=2)\\n- [3](https://locator.iocl.com/?search=Gurugram%2C+Haryana%2C+India&page=3)\\n- [Next](https://locator.iocl.com/?search=Gurugram%2C+Haryana%2C+India&page=2)\\n- [Last](https://locator.iocl.com/?search=Gurugram%2C+Haryana%2C+India&page=9)\\n\\n![](https://fonts.gstatic.com/s/i/productlogos/translate/v14/24px.svg)\\n\\nOriginal text\\n\\nRate this translation\\n\\nYour feedback will be used to help improve Google Translate\\n\\n![Petrol Pump Chatbot](https://www.singleinterface.com/files/banner_images/99528/2931_1688979528_indianoillogo09052023.jpg)\\n\\nPetrol Pump Chatbot\\n\\nType a message\\n\\n![Petrol Pump Chatbot](https://www.singleinterface.com/files/banner_images/99528/4826_1688979526_IOCLPPAttendant09052023.png)\",\"html\":null,\"rawHtml\":null,\"links\":null,\"extract\":null,\"json_field\":null,\"screenshot\":null,\"metadata\":{\"title\":\"IndianOil Locator | Gurugram, Haryana, India | Petrol Pump\",\"geo.placename\":\"IndianOil\",\"favicon\":\"https://cdn4.singleinterface.com/files/outlet/fav_icon/99528/indian_oil_png.png\",\"revisit-after\":\"1 days\",\"viewport\":\"width=device-width, initial-scale=1.0, minimum-scale=1.0, user-scalable=yes\",\"geo.position\":\"28.4646148; 77.0299194\",\"Author\":\"https://locator.iocl.com/\",\"robots\":\"index, follow\",\"googlebot\":\"index, follow\",\"copyright\":\"© Copyright \",\"language\":\"en\",\"description\":\"Find closest IndianOil fuel station near Gurugram, Haryana, India. Get accurate fuel station information e.g. address, phone no, map & timings.\",\"rating\":\"general\",\"resource-type\":\"text/html\",\"distribution\":\"Global\",\"keywords\":\"IndianOil Address, IndianOil location, IndianOil contact, IndianOil phone number, IndianOil Direction, IndianOil Fuel Station\",\"Created By\":\"IndianOil\",\"scrapeId\":\"cd7da132-07bf-40aa-99c8-c42122a3942a\",\"sourceURL\":\"https://locator.iocl.com/?search=Gurugram%2C+Haryana%2C+India\",\"url\":\"https://locator.iocl.com/?search=Gurugram%2C+Haryana%2C+India\",\"statusCode\":200,\"contentType\":\"text/html; charset=UTF-8\",\"proxyUsed\":\"basic\",\"creditsUsed\":1},\"actions\":null,\"title\":null,\"description\":null,\"changeTracking\":null,\"success\":true,\"warning\":null,\"error\":null}\n"
     ]
    }
   ],
   "source": [
    "data = scraped_data.model_dump_json()\n",
    "print(data)"
   ]
  },
  {
   "cell_type": "code",
   "execution_count": 29,
   "id": "3d93dd6a",
   "metadata": {},
   "outputs": [
    {
     "name": "stdout",
     "output_type": "stream",
     "text": [
      "None\n"
     ]
    }
   ],
   "source": [
    "print(scraped_data.html)"
   ]
  },
  {
   "cell_type": "code",
   "execution_count": 7,
   "id": "e22ff91b",
   "metadata": {},
   "outputs": [],
   "source": [
    "import urllib3\n",
    "from urllib.parse import urlparse, urljoin"
   ]
  },
  {
   "cell_type": "code",
   "execution_count": null,
   "id": "fa284355",
   "metadata": {},
   "outputs": [],
   "source": [
    "def filter_urls_by_keywords(urls, domain, keywords):\n",
    "    try:\n",
    "        matched_urls = []\n",
    "        domain = domain.lower()\n",
    "        keywords = [k.lower() for k in keywords]\n",
    "\n",
    "        for url in urls:\n",
    "            parsed = urlparse(url)\n",
    "            netloc = parsed.netloc.lower()\n",
    "            path = parsed.path.lower()\n",
    "\n",
    "            # Only match the path+query, not the domain\n",
    "            searchable_text = path + ' ' + parsed.query\n",
    "\n",
    "            if any(keyword in searchable_text for keyword in keywords):\n",
    "                matched_urls.append(url)\n",
    "\n",
    "        return matched_urls\n",
    "    except Exception as e:\n",
    "        print(f\"❌ Error filtering urls by keywords: {e}\")\n",
    "        return []\n",
    "\n"
   ]
  },
  {
   "cell_type": "code",
   "execution_count": 42,
   "id": "1137197a",
   "metadata": {},
   "outputs": [
    {
     "name": "stdout",
     "output_type": "stream",
     "text": [
      "ParseResult(scheme='https', netloc='www.idbibank.in', path='/home-loan.aspx', params='', query='', fragment='')\n"
     ]
    }
   ],
   "source": [
    "url = \"https://www.idbibank.in/home-loan.aspx\"\n",
    "\n",
    "url_parsed = urlparse(url)\n",
    "print(url_parsed)"
   ]
  },
  {
   "cell_type": "code",
   "execution_count": 38,
   "id": "3591f75b",
   "metadata": {},
   "outputs": [
    {
     "name": "stdout",
     "output_type": "stream",
     "text": [
      "https://www.hdfcbank.com/personal/loans/home-loans/home-loan-eligibility-calculator\n",
      "/personal/borrow/your-loans-against-securities/loan-against-property\n"
     ]
    }
   ],
   "source": [
    "keywords = [\"roi\", \"house\",\"salaried\",\"employed\",\"credit score\",\"score\",\"profession\",\"borrower\", \"criteria\",\"eligibility\",\n",
    "\"property type\", \"property\"]\n",
    "\n",
    "urls = [\"https://www.hdfcbank.com/personal/loans/home-loans/home-loan-eligibility-calculator\",\"/personal/borrow/your-loans-against-securities/loan-against-property\"]\n",
    "\n",
    "filtered_urls = []\n",
    "for url in urls:\n",
    "    parsed = urlparse(url)\n",
    "    searchable_text = parsed.path + ' ' + parsed.query\n",
    "\n",
    "    if any(keyword in searchable_text for keyword in keywords):\n",
    "        print(url)\n",
    "        filtered_urls.append(url)"
   ]
  },
  {
   "cell_type": "code",
   "execution_count": 9,
   "id": "c05a22e7",
   "metadata": {},
   "outputs": [
    {
     "data": {
      "text/plain": [
       "['https://www.hdfcbank.com/personal/loans/home-loans/home-loan-eligibility-calculator',\n",
       " 'https://www.hdfcbank.com/personal/loans/home-loans/home-loan-eligibility-calculator?utm_source=google&utm_medium=cpc&utm_campaign=home-loan-eligibility-calculator&utm_content=home-loan-eligibility-calculator&utm_term=home-loan-eligibility-calculator']"
      ]
     },
     "execution_count": 9,
     "metadata": {},
     "output_type": "execute_result"
    }
   ],
   "source": [
    "filter_urls_by_keywords([\"https://www.hdfcbank.com/personal/loans/home-loans/home-loan-eligibility-calculator\", \"https://www.hdfcbank.com/personal/loans/home-loans/home-loan-eligibility-calculator?utm_source=google&utm_medium=cpc&utm_campaign=home-loan-eligibility-calculator&utm_content=home-loan-eligibility-calculator&utm_term=home-loan-eligibility-calculator\"], \"https://www.hdfcbank.com\", [\"interest\",\"roi\",\"mitc\",\"term\",\"condition\",\"approved\", \"foir\", \"ltv\", \"lap\", \"home\",\n",
    "\"roi\", \"house\",\"salaried\",\"employed\",\"credit score\",\"score\",\"profession\",\"borrower\", \"criteria\",\"eligibility\",\n",
    "\"property type\"])"
   ]
  },
  {
   "cell_type": "code",
   "execution_count": 37,
   "id": "222a00a9",
   "metadata": {},
   "outputs": [
    {
     "data": {
      "text/plain": [
       "['https://www.idbibank.in/home-loan.aspx/loan-against-property.aspx',\n",
       " 'https://www.idbibank.in/home-loan.aspx/loan-against-property-overdraft.aspx',\n",
       " 'https://www.idbibank.in/home-loan.aspx/commercial-property-purchase.aspx',\n",
       " 'https://www.idbibank.in/home-loan.aspx/go_mobile_app_android_version.aspx',\n",
       " 'https://www.idbibank.in/home-loan.aspx/go_mobile_app_android_version.aspx']"
      ]
     },
     "execution_count": 37,
     "metadata": {},
     "output_type": "execute_result"
    }
   ],
   "source": [
    "def normalize_urls(raw_urls, base_domain):\n",
    "    try:\n",
    "        valid_urls = []\n",
    "        base_domain = base_domain.rstrip('/')  # Ensure no trailing slash\n",
    "\n",
    "        for url in raw_urls:\n",
    "            url = url.strip()\n",
    "\n",
    "            parsed = urlparse(url)\n",
    "\n",
    "            # If scheme and netloc are missing, treat it as relative\n",
    "            if not parsed.scheme or not parsed.netloc:\n",
    "                full_url = urljoin(base_domain + '/', url)\n",
    "                valid_urls.append(full_url)\n",
    "            else:\n",
    "                valid_urls.append(url)\n",
    "\n",
    "        return valid_urls\n",
    "    except Exception as e:\n",
    "        print(f\"❌ Error normalizing urls: {e}\")\n",
    "        return []\n",
    "\n",
    "normalize_urls(filtered_urls, \"https://www.idbibank.in/home-loan.aspx\")"
   ]
  },
  {
   "cell_type": "code",
   "execution_count": 2,
   "id": "c8cddaa5",
   "metadata": {},
   "outputs": [
    {
     "data": {
      "text/plain": [
       "0"
      ]
     },
     "execution_count": 2,
     "metadata": {},
     "output_type": "execute_result"
    }
   ],
   "source": [
    "a = {}\n",
    "\n",
    "len(a)"
   ]
  },
  {
   "cell_type": "code",
   "execution_count": null,
   "id": "c175a566",
   "metadata": {},
   "outputs": [
    {
     "name": "stdout",
     "output_type": "stream",
     "text": [
      "success=True data=[{'url': 'https://creditdharma.in/home-loan/compare-banks/hdfc-home-loan-vs-idbi-home-loan-vs-lic-home-loan-vs-can-fin-home-loan/', 'title': 'IDBI Bank Home Loan - vs - LIC HFL Home Loan - vs - Can Fin ...', 'description': 'Rate of Interest  IDBI Bank provides rates of 7.75% - 12.50% , potentially yielding better long-term benefits. Meanwhile, LIC HFL has rates of 7.50% - 10.75%, suitable for borrowers seeking flexibility. Can Fin offers rates of 9.20% - 14.10%, ideal for those prioritizing competitive initial rates.'}, {'url': 'https://creditdharma.in/home-loan/compare-banks/hdfc-home-loan-vs-idbi-home-loan-vs-shriram-housing-finance-home-loan-vs-hinduja-housing-finance-home-loan/', 'title': 'IDBI Bank Home Loan - vs - Shriram Housing Finance Home Loan', 'description': 'Compare home loan offers from HDFC Home Loan, IDBI Bank Home Loan, Shriram Housing Finance Home Loan, and Hinduja Housing Finance Home Loan.'}] warning=None error=None\n"
     ]
    }
   ],
   "source": [
    "from firecrawl import FirecrawlApp\n",
    "\n",
    "# Initialize the client with your API key\n",
    "app = FirecrawlApp(api_key=\"\")\n",
    "\n",
    "\n",
    "\n",
    "response = app.search(\"Search for Home loan details of IDBI Bank, India\",\n",
    "limit=2,\n",
    "location=\"India\",\n",
    "tbs=\"qdr:w\",\n",
    "timeout=30000)\n",
    "print(response)"
   ]
  },
  {
   "cell_type": "code",
   "execution_count": 93,
   "id": "e7c35901",
   "metadata": {},
   "outputs": [
    {
     "data": {
      "text/plain": [
       "[{'url': 'https://creditdharma.in/home-loan/compare-banks/hdfc-home-loan-vs-bank-of-india-home-loan-vs-idbi-home-loan-vs-hinduja-housing-finance-home-loan/',\n",
       "  'title': 'IDBI Bank Home Loan - vs - Hinduja Housing Finance Home Loan',\n",
       "  'description': 'Introduction ; Interest Rate Check Now ↗, 7.50% - 13.20%, 7.35% - 11% ; Loan Tenure, Max 30 Years, Max 30 Years ; LTV, 80% - 85%, 80% - 90%'},\n",
       " {'url': 'https://creditdharma.in/home-loan/compare-banks/hdfc-home-loan-vs-idbi-home-loan-vs-aadhar-housing-finance-home-loan-vs-repco-home-finance-home-loan/',\n",
       "  'title': 'IDBI Bank Home Loan - vs - Aadhar Housing Finance Ltd. Home Loan',\n",
       "  'description': 'Introduction ; Loan Tenure, Max 30 Years, Max 30 Years, Max 30 years, Max 30 years ; LTV, 80% - 85%, 80% - 90%, 80% - 90%, 80% - 90%.'},\n",
       " {'url': 'https://www.paisabazaar.com/home-loan/mysore/',\n",
       "  'title': 'Home Loan in Mysore: Check Interest Rate, Eligibility ... - Paisabazaar',\n",
       "  'description': '7.40% – 10.15% p.a., Check Eligibility · HDFC Bank, 7.90% p.a. onwards, 7.90% p.a. onwards, 7.90% p.a. onwards, Check Eligibility · Bajaj Housing Finance ...'},\n",
       " {'url': 'https://www.paisabazaar.com/home-loan/visakhapatnam/',\n",
       "  'title': 'Home Loans in Vizag (Visakhapatnam) - Paisabazaar',\n",
       "  'description': '7.40% – 10.15% p.a., Check Eligibility · HDFC Bank, 7.90% p.a. onwards, 7.90% p.a. onwards, 7.90% p.a. onwards, Check Eligibility · Bajaj Housing Finance ...'},\n",
       " {'url': 'https://www.justdial.com/Balaghat/Home-Loans/nct-10250496',\n",
       "  'title': 'Home Loans in Balaghat - Compare Best Interest Rates & Apply Easily',\n",
       "  'description': 'Looking for home loans in Balaghat? Compare interest rates, check eligibility, and apply for the best home loan offers from lenders.'},\n",
       " {'url': 'https://myfinancecare.in/best-home-loan-for-b-khata-properties-interest-rates-eligibility-3/',\n",
       "  'title': 'Best Home Loan for B Khata Properties – Interest Rates & Eligibility',\n",
       "  'description': 'Interest rates for B Khata home loans range from 8.50% to 14% due to the associated risks, with factors like credit score and Loan-to-Value ratio influencing ...'},\n",
       " {'url': 'https://nsearchives.nseindia.com/corporate/SRGHOUSING_14082025133412_Investor_Presentation_14082025.pdf',\n",
       "  'title': '[PDF] Divya Kothari - NSE',\n",
       "  'description': 'Targeting the untapped and underserved population in home loan segment ... Interest Rate. ▫ Minimum 15%. ▫ Maximum 26%. Tenure. ▫ Minimum 1 Year.'},\n",
       " {'url': 'https://nsearchives.nseindia.com/corporate/LAXMIINDIA_19082025181843_Transcript_Intimation.pdf',\n",
       "  'title': '[PDF] SOURABH MISHRA - NSE',\n",
       "  'description': 'At this core, Laxmi India Finance Limited is a non-banking financial company dedicated to providing tailored financial solutions. Our primary focus is on ...'},\n",
       " {'url': 'https://www.fincash.com/l/mr/loan/gold-loan-interest-rates',\n",
       "  'title': 'भारतातील गोल्ड लोनचे व्याजदर 2023 - Fincash',\n",
       "  'description': 'सोन्याच्या किमती गगनाला भिडल्याने, व्यक्ती त्यांच्या आर्थिक गरजा पूर्ण करण्यासाठी या मौल्यवान मालमत्तेचा फायदा घेण्याचे मार्ग शोधतात. असा एक पर्याय म्हणजे सुवर्ण कर्ज, जिथे व्यक्ती त्यांचे सोने गहाण ठेवू शकतात आणि त्या बदल्यात निधी मिळवू ...'},\n",
       " {'url': 'https://www.facebook.com/groups/1886164938270907/posts/3896284223925625/',\n",
       "  'title': \"Sebi seeks public feedback * Trump's tariff may hit Indian banks ...\",\n",
       "  'description': '... loan-to-value (LTV) limit for gold loans to boost NBFC sector. * Maruti Suzuki signs MoU with Equitas Small Finance Bank to expand customer financing options.'}]"
      ]
     },
     "execution_count": 93,
     "metadata": {},
     "output_type": "execute_result"
    }
   ],
   "source": [
    "response.data"
   ]
  },
  {
   "cell_type": "code",
   "execution_count": 109,
   "id": "1d106587",
   "metadata": {},
   "outputs": [],
   "source": [
    "import json\n",
    "\n",
    "# Load JSON file\n",
    "with open(r'C:\\Users\\Asheem Siwach\\Downloads\\bank_data_scraper\\lender_urls.json', 'r', encoding='utf-8') as file:\n",
    "    data = json.load(file)\n"
   ]
  },
  {
   "cell_type": "code",
   "execution_count": 114,
   "id": "b88d9082",
   "metadata": {},
   "outputs": [
    {
     "data": {
      "text/plain": [
       "['https://www.bankofbaroda.in/writereaddata/images/pdf/Final-BOB-Approved-Housing-Projects-May-2019-24-06-2019.pdf',\n",
       " 'https://www.bankofbaroda.in/personal-banking/loans/baroda-yoddha-loans/baroda-yoddha-home-loan',\n",
       " 'https://www.bankofbaroda.in/personal-banking/loans/home-loan/baroda-home-loan']"
      ]
     },
     "execution_count": 114,
     "metadata": {},
     "output_type": "execute_result"
    }
   ],
   "source": [
    "data.get(\"Bank of Baroda\")"
   ]
  },
  {
   "cell_type": "code",
   "execution_count": 82,
   "id": "47c9ee8e",
   "metadata": {},
   "outputs": [
    {
     "name": "stdout",
     "output_type": "stream",
     "text": [
      "{'url': 'https://creditdharma.in/home-loan/compare-banks/hdfc-home-loan-vs-idbi-home-loan-vs-shriram-housing-finance-home-loan-vs-hinduja-housing-finance-home-loan/', 'title': 'IDBI Bank Home Loan - vs - Shriram Housing Finance Home Loan', 'description': 'IDBI Bank provides rates of 7.75% - 12.50% , potentially yielding better long-term benefits.'}\n",
      "{'url': 'https://creditdharma.in/home-loan/compare-banks/hdfc-home-loan-vs-idbi-home-loan-vs-lic-home-loan-vs-can-fin-home-loan/', 'title': 'IDBI Bank Home Loan - vs - LIC HFL Home Loan - vs - Can Fin ...', 'description': 'IDBI Bank provides rates of 7.75% - 12.50%, potentially yielding better long-term benefits. Meanwhile, LIC HFL has rates of 7.50% - 10.75%, suitable for ...'}\n",
      "{'url': 'https://www.paisabazaar.com/hindi/home-loan/interest-rates/', 'title': 'सभी बैंकों की होम लोन ब्याज दरें जानें', 'description': 'प्रश्न. एसबीआई किस ब्याज दर पर होम लोन प्रदान करता है? उत्तर: एसबीआई होम लोन की ब्याज दरें (SBI Home Loan Interest Rate) 7.50% प्रति ...'}\n"
     ]
    }
   ],
   "source": [
    "search_response = {}\n",
    "string = \"\"\n",
    "for i in response.data:\n",
    "    print(i)\n",
    "    string += i.get('title') + \" --> \" + i.get('description')[:1000] + \".\\n\"\n",
    "\n",
    "search_response[\"search_response\"] = string\n",
    "\n",
    "\n",
    "\n",
    "\n",
    "\n",
    "\n",
    "\n",
    "\n",
    "    "
   ]
  },
  {
   "cell_type": "code",
   "execution_count": 83,
   "id": "111f4761",
   "metadata": {},
   "outputs": [
    {
     "data": {
      "text/plain": [
       "{'search_response': 'IDBI Bank Home Loan - vs - Shriram Housing Finance Home Loan --> IDBI Bank provides rates of 7.75% - 12.50% , potentially yielding better long-term benefits..\\nIDBI Bank Home Loan - vs - LIC HFL Home Loan - vs - Can Fin ... --> IDBI Bank provides rates of 7.75% - 12.50%, potentially yielding better long-term benefits. Meanwhile, LIC HFL has rates of 7.50% - 10.75%, suitable for ....\\nसभी बैंकों की होम लोन ब्याज दरें जानें --> प्रश्न. एसबीआई किस ब्याज दर पर होम लोन प्रदान करता है? उत्तर: एसबीआई होम लोन की ब्याज दरें (SBI Home Loan Interest Rate) 7.50% प्रति ....\\n'}"
      ]
     },
     "execution_count": 83,
     "metadata": {},
     "output_type": "execute_result"
    }
   ],
   "source": [
    "search_response"
   ]
  },
  {
   "cell_type": "code",
   "execution_count": 64,
   "id": "69a5b8d6",
   "metadata": {},
   "outputs": [
    {
     "name": "stdout",
     "output_type": "stream",
     "text": [
      "foir\n",
      "mitc\n",
      "lapltv\n",
      "laproi\n",
      "remarks\n",
      "sourceurls\n",
      "homeloanltv\n",
      "homeloanroi\n",
      "foirsalaried\n",
      "processingfees\n",
      "processingtime\n",
      "foirselfsalaried\n",
      "loanapprovaltime\n",
      "acceptedusagetype\n",
      "minimumloanamount\n",
      "prepaymentcharges\n",
      "foreclosurecharges\n",
      "minimumcreditscore\n",
      "acceptedagreementtype\n",
      "coborrowerincomerange\n",
      "minimumcoborrowerincome\n",
      "primaryborrowerincomerange\n",
      "propertytypespecifications\n",
      "customersupportcontactnumbers\n"
     ]
    }
   ],
   "source": [
    "def find_empty_keys(data):\n",
    "    empty_keys = []\n",
    "    for key, value in data.items():\n",
    "        if not value or value.lower() in ['n/a', None, \"not found\"]:\n",
    "            empty_keys.append(key)\n",
    "    return empty_keys\n",
    "\n",
    "\n",
    "\n",
    "\n",
    "\n",
    "\n"
   ]
  },
  {
   "cell_type": "code",
   "execution_count": 71,
   "id": "b1d74b35",
   "metadata": {},
   "outputs": [
    {
     "ename": "TypeError",
     "evalue": "unsupported operand type(s) for +: 'dict' and 'dict'",
     "output_type": "error",
     "traceback": [
      "\u001b[31m---------------------------------------------------------------------------\u001b[39m",
      "\u001b[31mTypeError\u001b[39m                                 Traceback (most recent call last)",
      "\u001b[36mCell\u001b[39m\u001b[36m \u001b[39m\u001b[32mIn[71]\u001b[39m\u001b[32m, line 4\u001b[39m\n\u001b[32m      1\u001b[39m first = {\u001b[33m'\u001b[39m\u001b[33ma\u001b[39m\u001b[33m'\u001b[39m: \u001b[38;5;28;01mNone\u001b[39;00m, \u001b[33m'\u001b[39m\u001b[33mb\u001b[39m\u001b[33m'\u001b[39m: \u001b[33m'\u001b[39m\u001b[33mb\u001b[39m\u001b[33m'\u001b[39m, \u001b[33m'\u001b[39m\u001b[33mc\u001b[39m\u001b[33m'\u001b[39m: \u001b[33m'\u001b[39m\u001b[33mc\u001b[39m\u001b[33m'\u001b[39m}\n\u001b[32m      2\u001b[39m second = {\u001b[33m'\u001b[39m\u001b[33ma\u001b[39m\u001b[33m'\u001b[39m: \u001b[33m'\u001b[39m\u001b[33ma\u001b[39m\u001b[33m'\u001b[39m, \u001b[33m'\u001b[39m\u001b[33mb\u001b[39m\u001b[33m'\u001b[39m: \u001b[33m'\u001b[39m\u001b[33mb\u001b[39m\u001b[33m'\u001b[39m, \u001b[33m'\u001b[39m\u001b[33mc\u001b[39m\u001b[33m'\u001b[39m: \u001b[33m'\u001b[39m\u001b[33mc\u001b[39m\u001b[33m'\u001b[39m}\n\u001b[32m----> \u001b[39m\u001b[32m4\u001b[39m third = \u001b[43mfirst\u001b[49m\u001b[43m \u001b[49m\u001b[43m+\u001b[49m\u001b[43m \u001b[49m\u001b[43msecond\u001b[49m\n\u001b[32m      6\u001b[39m \u001b[38;5;28mprint\u001b[39m(third)\n",
      "\u001b[31mTypeError\u001b[39m: unsupported operand type(s) for +: 'dict' and 'dict'"
     ]
    }
   ],
   "source": [
    "def convert_to_string(dictionary):\n",
    "    for key, value in dictionary.items():\n",
    "        if type(value) == dict:\n",
    "            dictionary[key] = convert_to_string(value)\n",
    "        elif type(value) == list:\n",
    "            dictionary[key] = [convert_to_string(item) for item in value]\n",
    "        else:\n",
    "            dictionary[key] = str(value)\n",
    "    return dictionary\n",
    "\n",
    "\n",
    "\n",
    "\n",
    "\n",
    "\n",
    "\n"
   ]
  },
  {
   "cell_type": "code",
   "execution_count": 72,
   "id": "7807313b",
   "metadata": {},
   "outputs": [],
   "source": [
    "def dict_to_string(dictionary):\n",
    "    string = \"\"\n",
    "    for key, value in dictionary.items():\n",
    "        string += f\"{key}: {value}\\n\"\n",
    "    return string"
   ]
  },
  {
   "cell_type": "code",
   "execution_count": 73,
   "id": "cdd0c0e0",
   "metadata": {},
   "outputs": [
    {
     "data": {
      "text/plain": [
       "'a: None\\nb: b\\nc: c\\n'"
      ]
     },
     "execution_count": 73,
     "metadata": {},
     "output_type": "execute_result"
    }
   ],
   "source": [
    "dict_to_string(first)"
   ]
  },
  {
   "cell_type": "code",
   "execution_count": null,
   "id": "00b4f487",
   "metadata": {},
   "outputs": [],
   "source": [
    "(\n",
    "    ParsedChatCompletion[LendersExtractSchema](id='chatcmpl-C6Z7mUSvdVvwcrMt8D9eN8NcTKvGY', \n",
    "    choices=[ParsedChoice[LendersExtractSchema]\n",
    "    (finish_reason='stop', index=0, logprobs=None,\n",
    "     message=ParsedChatCompletionMessage[LendersExtractSchema]\n",
    "     (content=\n",
    "     '{\\n  \"lender\": \"Axis Bank Ltd.\",\\n  \n",
    "     \"alias\": \"Axis Bank\",\\n  \n",
    "     \"officialwebsite\": \"https://www.axisbank.com\",\\n  \n",
    "     \"homeloanwebsite\": \"https://www.axisbank.com/home-loans\",\\n  \n",
    "     \"lendertype\": \"Private\",\\n  \n",
    "     \"foirsalaried\":  \\t\"null\",\\n  \n",
    "     \"foirselfsalaried\":  \"null\",\\n  \n",
    "     \"foir\":  \"null\",\\n  \n",
    "     \"homeloanroi\":  \"null\",\\n  \n",
    "     \"laproi\":  \"null\",\\n  \n",
    "     \"homeloanltv\":  \"null\",\\n  \n",
    "     \"lapltv\":  \"null\",\\n  \n",
    "     \"listofdocuments\": \"Application form with photograph, Identity and Address Proof, Latest Salary-slip for last 3 months, Form 16/ITR, Last 6 months bank statement, Processing fee cheque, Education Qualifications Certificate, Proof of business existence, Last 3 years Income Tax returns, Last 3 years Profit/Loss and Balance Sheet, Business profile\",\\n  \n",
    "     \"minimumcoborrowerincome\":  \"null\",\\n  \n",
    "     \"minimumcreditscore\":  \"null\",\\n  \n",
    "     \"remarks\":  \"null\",\\n  \n",
    "     \"acceptedagreementtype\":  \"null\",\\n  \n",
    "     \"acceptedusagetype\":  \"null\",\\n  \n",
    "     \"mitc\":  \"null\",\\n  \n",
    "     \"loanproducts\": \"Home Loan, Home Loan Interest Saver, Home Loan -Top up, Home Loan - takeover facility, Home Improvement Loan, Home Extension Loan, Home Loan - Booking Finance, Loan on second Charge/Pari-passu charge and Home Loan-Refinance Facility\",\\n  \n",
    "     \"targetcustomers\": \"Salaried, Self Employed Professionals, Self Employed Non-Professionals\",\\n  \n",
    "     \"eligibilitycriteria\": \"Min age of the applicant: 22 years for Salaried, 25 years for Self Employed; Max age of the applicant (At loan Maturity): 70 yrs for Salaried, 65 yrs for Self Employed\",\\n  \n",
    "     \"eligibleprofessiontype\": \"Salaried, Self Employed Professionals, Self Employed Non-Professionals\",\\n  \n",
    "     \"keyfeatures\": \"In-principle loan approval, Extensive Range of Home Loan Products, Customized Home Loan Features, Already approved projects, Flexible Loan Repayment Options, Broad presence across India\",\\n  \n",
    "     \"specialoffersavailable\": \"Nil Processing Fees for Inward Balance Transfer and PMAY Cases\",\\n  \n",
    "     \"customersupportcontactnumbers\":  \"null\",\\n  \n",
    "     \"loanapprovaltime\":  \"null\",\\n  \n",
    "     \"processingtime\":  \"null\",\\n  \n",
    "     \"minimumloanamount\":  \"null\",\\n  \n",
    "     \"maximumloanamount\":  \\t\"null\",\\n  \n",
    "     \"loantenurerange\": \"Up to 30 years for Salaried, Up to 20 years for Self Employed\",\\n  \n",
    "     \"primaryborrowerincomerange\":  \"null\",\\n  \n",
    "     \"coborrowerincomerange\":  \"null\",\\n  \n",
    "     \"processingfees\":  \"null\",\\n  \n",
    "     \"prepaymentcharges\":  \"null\",\\n  \n",
    "     \"foreclosurecharges\":  \"null\",\\n  \n",
    "     \"approvedpropertytypes\": \"Residential property, Plot of land for construction, Existing property for renovation\",\\n  \n",
    "     \"propertytypespecifications\":  \"null\",\\n  \n",
    "     \"sourceurls\": []\\n}', \n",
    "     refusal=None, \n",
    "     role='assistant', annotations=[], audio=None, function_call=None, tool_calls=None, \n",
    "     parsed=LendersExtractSchema(lender='Axis Bank Ltd.', \n",
    "     alias='Axis Bank', officialwebsite='https://www.axisbank.com', \n",
    "     homeloanwebsite='https://www.axisbank.com/home-loans', lendertype='Private', foirsalaried='null', foirselfsalaried='null', foir='null', homeloanroi='null', laproi='null', homeloanltv='null', lapltv='null', listofdocuments='Application form with photograph, Identity and Address Proof, Latest Salary-slip for last 3 months, Form 16/ITR, Last 6 months bank statement, Processing fee cheque, Education Qualifications Certificate, Proof of business existence, Last 3 years Income Tax returns, Last 3 years Profit/Loss and Balance Sheet, Business profile', minimumcoborrowerincome='null', minimumcreditscore='null', remarks='null', acceptedagreementtype='null', acceptedusagetype='null', mitc='null', loanproducts='Home Loan, Home Loan Interest Saver, Home Loan -Top up, Home Loan - takeover facility, Home Improvement Loan, Home Extension Loan, Home Loan - Booking Finance, Loan on second Charge/Pari-passu charge and Home Loan-Refinance Facility', targetcustomers='Salaried, Self Employed Professionals, Self Employed Non-Professionals', eligibilitycriteria='Min age of the applicant: 22 years for Salaried, 25 years for Self Employed; Max age of the applicant (At loan Maturity): 70 yrs for Salaried, 65 yrs for Self Employed', eligibleprofessiontype='Salaried, Self Employed Professionals, Self Employed Non-Professionals', keyfeatures='In-principle loan approval, Extensive Range of Home Loan Products, Customized Home Loan Features, Already approved projects, Flexible Loan Repayment Options, Broad presence across India', specialoffersavailable='Nil Processing Fees for Inward Balance Transfer and PMAY Cases', customersupportcontactnumbers='null', loanapprovaltime='null', processingtime='null', minimumloanamount='null', maximumloanamount='null', loantenurerange='Up to 30 years for Salaried, Up to 20 years for Self Employed', primaryborrowerincomerange='null', coborrowerincomerange='null', processingfees='null', prepaymentcharges='null', foreclosurecharges='null', approvedpropertytypes='Residential property, Plot of land for construction, Existing property for renovation', propertytypespecifications='null', sourceurls=[])))], created=1755681022, model='gpt-4o-mini-2024-07-18', object='chat.completion', service_tier='default', system_fingerprint='fp_560af6e559', usage=CompletionUsage(completion_tokens=665, prompt_tokens=3027, total_tokens=3692, completion_tokens_details=CompletionTokensDetails(accepted_prediction_tokens=0, audio_tokens=0, reasoning_tokens=0, rejected_prediction_tokens=0), prompt_tokens_details=PromptTokensDetails(audio_tokens=0, cached_tokens=0))), {'input_tokens': 3027, 'output_tokens': 665, 'total_tokens': 3692})"
   ]
  },
  {
   "cell_type": "code",
   "execution_count": 3,
   "id": "c4c59137",
   "metadata": {},
   "outputs": [],
   "source": [
    "import json\n",
    "import pandas as pd\n",
    "\n",
    "with open(r\"C:\\Users\\Asheem Siwach\\Downloads\\bank_data_scraper\\lender_urls - Copy.json\", \"r\") as file:\n",
    "    data1 = json.load(file)\n",
    "\n",
    "df1 = pd.read_csv(r\"C:\\Users\\Asheem Siwach\\Downloads\\lenders_data_rows (1).csv\")\n",
    "df2 = pd.read_csv(r\"C:\\Users\\Asheem Siwach\\Downloads\\lenders_google_search_rows.csv\")\n"
   ]
  },
  {
   "cell_type": "code",
   "execution_count": 184,
   "id": "0d53476b",
   "metadata": {},
   "outputs": [
    {
     "name": "stdout",
     "output_type": "stream",
     "text": [
      "58\n"
     ]
    }
   ],
   "source": [
    "left_json_lenders = []\n",
    "for lender in data1.keys():\n",
    "    if lender not in df2['lender'].unique():\n",
    "        left_json_lenders.append(lender)\n",
    "\n",
    "print(len(left_json_lenders))"
   ]
  },
  {
   "cell_type": "code",
   "execution_count": null,
   "id": "a5841006",
   "metadata": {},
   "outputs": [],
   "source": []
  },
  {
   "cell_type": "code",
   "execution_count": 4,
   "id": "48cded4f",
   "metadata": {},
   "outputs": [
    {
     "name": "stdout",
     "output_type": "stream",
     "text": [
      "(151, 41)\n",
      "(131, 10)\n"
     ]
    }
   ],
   "source": [
    "print(df1.shape)\n",
    "print(df2.shape)"
   ]
  },
  {
   "cell_type": "code",
   "execution_count": 6,
   "id": "ee9e3b1c",
   "metadata": {},
   "outputs": [],
   "source": [
    "left_lender = []\n",
    "for lender in df1['lender'].unique():\n",
    "    if lender not in df2['lender'].unique():\n",
    "        left_lender.append(lender)"
   ]
  },
  {
   "cell_type": "code",
   "execution_count": 9,
   "id": "ca2ffcfe",
   "metadata": {},
   "outputs": [],
   "source": [
    "dumm = pd.DataFrame()\n",
    "dumm['lender'] = left_lender\n",
    "dumm['urls'] = [\"\" for lender in left_lender]\n",
    "dumm.to_csv(r\"C:\\Users\\Asheem Siwach\\Downloads\\bank_data_scraper\\lender_extra_urls.csv\", index=False)"
   ]
  },
  {
   "cell_type": "code",
   "execution_count": 193,
   "id": "0f67882e",
   "metadata": {},
   "outputs": [],
   "source": [
    "df_dummy = pd.DataFrame()\n",
    "df_dummy['lender'] = left_json_lenders\n",
    "df_dummy['urls'] = [\"\" for lender in left_json_lenders]\n",
    "\n",
    "df_dummy.to_csv(r\"C:\\Users\\Asheem Siwach\\Downloads\\bank_data_scraper\\lender_extra_urls.csv\", index=False)"
   ]
  },
  {
   "cell_type": "markdown",
   "id": "1badc62a",
   "metadata": {},
   "source": []
  },
  {
   "cell_type": "code",
   "execution_count": 168,
   "id": "d205d3cc",
   "metadata": {},
   "outputs": [
    {
     "name": "stdout",
     "output_type": "stream",
     "text": [
      "86\n"
     ]
    }
   ],
   "source": [
    "df1_lenders = df1['lender'].unique()\n",
    "df2_lenders = df2['lender'].unique().tolist()\n",
    "df2_lenders.extend(left_json_lenders)\n",
    "df2_lenders2 = list(set(df2_lenders))\n",
    "\n",
    "print(len(df2_lenders2))\n",
    "\n",
    "\n",
    "# left_lenders = []\n",
    "# for lender in df1_lenders:\n",
    "#     if lender not in df2_lenders:\n",
    "#         left_lenders.append(lender)"
   ]
  },
  {
   "cell_type": "code",
   "execution_count": 194,
   "id": "36a1cbeb",
   "metadata": {},
   "outputs": [
    {
     "data": {
      "text/html": [
       "<div>\n",
       "<style scoped>\n",
       "    .dataframe tbody tr th:only-of-type {\n",
       "        vertical-align: middle;\n",
       "    }\n",
       "\n",
       "    .dataframe tbody tr th {\n",
       "        vertical-align: top;\n",
       "    }\n",
       "\n",
       "    .dataframe thead th {\n",
       "        text-align: right;\n",
       "    }\n",
       "</style>\n",
       "<table border=\"1\" class=\"dataframe\">\n",
       "  <thead>\n",
       "    <tr style=\"text-align: right;\">\n",
       "      <th></th>\n",
       "      <th>lender</th>\n",
       "      <th>urls</th>\n",
       "    </tr>\n",
       "  </thead>\n",
       "  <tbody>\n",
       "    <tr>\n",
       "      <th>0</th>\n",
       "      <td>Bank of India</td>\n",
       "      <td>NaN</td>\n",
       "    </tr>\n",
       "    <tr>\n",
       "      <th>1</th>\n",
       "      <td>Punjab &amp; Sind Bank</td>\n",
       "      <td>NaN</td>\n",
       "    </tr>\n",
       "  </tbody>\n",
       "</table>\n",
       "</div>"
      ],
      "text/plain": [
       "               lender  urls\n",
       "0       Bank of India   NaN\n",
       "1  Punjab & Sind Bank   NaN"
      ]
     },
     "execution_count": 194,
     "metadata": {},
     "output_type": "execute_result"
    }
   ],
   "source": [
    "extracted_urls = pd.read_csv(r\"C:\\Users\\Asheem Siwach\\Downloads\\bank_data_scraper\\lender_extra_urls.csv\")\n",
    "extracted_urls.head(2)\n"
   ]
  },
  {
   "cell_type": "code",
   "execution_count": 2,
   "id": "987a6e89",
   "metadata": {},
   "outputs": [
    {
     "name": "stdout",
     "output_type": "stream",
     "text": [
      "(131, 10)\n"
     ]
    }
   ],
   "source": [
    "import pandas as pd\n",
    "\n",
    "google_df = pd.read_csv(r\"C:\\Users\\Asheem Siwach\\Downloads\\lenders_google_search_rows.csv\")\n",
    "print(google_df.shape)"
   ]
  },
  {
   "cell_type": "code",
   "execution_count": 202,
   "id": "83080092",
   "metadata": {},
   "outputs": [],
   "source": [
    "left_lenders = []\n",
    "for lender in df1['lender'].unique():\n",
    "    if lender not in google_df['lender'].unique():\n",
    "        left_lenders.append(lender)"
   ]
  },
  {
   "cell_type": "code",
   "execution_count": 204,
   "id": "9ed39b98",
   "metadata": {},
   "outputs": [],
   "source": [
    "dumm = pd.DataFrame()\n",
    "dumm['lender'] = left_lenders\n",
    "dumm['urls'] = [\"\" for lender in left_lenders]\n",
    "dumm.to_csv(r\"C:\\Users\\Asheem Siwach\\Downloads\\bank_data_scraper\\lender_extra_urls.csv\", index=False)"
   ]
  },
  {
   "cell_type": "code",
   "execution_count": null,
   "id": "23d5abb1",
   "metadata": {},
   "outputs": [],
   "source": []
  }
 ],
 "metadata": {
  "kernelspec": {
   "display_name": ".venv",
   "language": "python",
   "name": "python3"
  },
  "language_info": {
   "codemirror_mode": {
    "name": "ipython",
    "version": 3
   },
   "file_extension": ".py",
   "mimetype": "text/x-python",
   "name": "python",
   "nbconvert_exporter": "python",
   "pygments_lexer": "ipython3",
   "version": "3.13.2"
  }
 },
 "nbformat": 4,
 "nbformat_minor": 5
}
